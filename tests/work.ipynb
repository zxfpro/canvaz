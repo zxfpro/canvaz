{
 "cells": [
  {
   "cell_type": "code",
   "execution_count": 7,
   "metadata": {},
   "outputs": [
    {
     "name": "stdout",
     "output_type": "stream",
     "text": [
      "/Users/zhaoxuefeng/GitHub/canvaz/src\n"
     ]
    }
   ],
   "source": [
    "%cd ~/GitHub/canvaz/src/"
   ]
  },
  {
   "cell_type": "code",
   "execution_count": 12,
   "metadata": {},
   "outputs": [],
   "source": [
    "from canvaz import Canvas, Color"
   ]
  },
  {
   "cell_type": "code",
   "execution_count": 15,
   "metadata": {},
   "outputs": [],
   "source": [
    "canvas_path = \"/Users/zhaoxuefeng/GitHub/obsidian/实验室/T2/实验.canvas\""
   ]
  },
  {
   "cell_type": "code",
   "execution_count": 16,
   "metadata": {},
   "outputs": [],
   "source": [
    "cvs = Canvas(file_path=canvas_path)"
   ]
  },
  {
   "cell_type": "code",
   "execution_count": 22,
   "metadata": {},
   "outputs": [
    {
     "data": {
      "text/plain": [
       "BoxList([{'id': 'b7ab1742d6be17d6', 'fromNode': '23d6017a43132da5', 'fromSide': 'right', 'toNode': 'd8d9c41fe7480744', 'toSide': 'left', 'color': '0'}, {'id': '9ac0417eca84b673', 'fromNode': 'd8d9c41fe7480744', 'fromSide': 'right', 'toNode': 'ef8ceacb4cb99283', 'toSide': 'left', 'color': '0'}, {'id': '8da591ba76f1b9f3', 'fromNode': 'ef8ceacb4cb99283', 'fromSide': 'right', 'toNode': '77a853acbc583811', 'toSide': 'left', 'color': '0'}, {'id': '48cc21cf50b137b8', 'fromNode': '77a853acbc583811', 'fromSide': 'right', 'toNode': '0d33225f2f2a9a7e', 'toSide': 'left', 'color': '0'}, {'id': '2b82b371a7cbd765', 'fromNode': '0d33225f2f2a9a7e', 'fromSide': 'right', 'toNode': 'eee215b3d0ea5581', 'toSide': 'left', 'color': '0'}])"
      ]
     },
     "execution_count": 22,
     "metadata": {},
     "output_type": "execute_result"
    }
   ],
   "source": [
    "cvs.add_node('work111')"
   ]
  },
  {
   "cell_type": "code",
   "execution_count": null,
   "metadata": {},
   "outputs": [],
   "source": [
    "cvs.to_file(canvas_path)"
   ]
  }
 ],
 "metadata": {
  "kernelspec": {
   "display_name": "Python 3 (ipykernel)",
   "language": "python",
   "name": "python3"
  },
  "language_info": {
   "codemirror_mode": {
    "name": "ipython",
    "version": 3
   },
   "file_extension": ".py",
   "mimetype": "text/x-python",
   "name": "python",
   "nbconvert_exporter": "python",
   "pygments_lexer": "ipython3",
   "version": "3.10.16"
  }
 },
 "nbformat": 4,
 "nbformat_minor": 2
}
